{
 "cells": [
  {
   "cell_type": "code",
   "execution_count": 83,
   "id": "3a7c719b",
   "metadata": {
    "ExecuteTime": {
     "end_time": "2021-11-24T15:38:50.055575Z",
     "start_time": "2021-11-24T15:38:50.032213Z"
    }
   },
   "outputs": [],
   "source": [
    "class Car:\n",
    "        def __init__(self):\n",
    "                self.name = input(\"Please Enter Name : \")\n",
    "                self.__lock = int(input(\"enter lock: \"))\n",
    "                self.speed = int(input(\"enter car speed: \"))\n",
    "                self.carType=input(\"Enter Car Type: \")\n",
    "                self.oil=None\n",
    "               \n",
    "                self.maxTank=100\n",
    "                self.maxPower=100\n",
    "        def openLock(self, password):\n",
    "            if self.__lock == password:\n",
    "                    print(\"opened successfully:)\")\n",
    "            else:\n",
    "                    print(\"failed to open the lock try again!!\")\n",
    "\n",
    "        def changeSpeed(self):\n",
    "                    self.speed=int(input(\"enter new speed : \"))\n",
    "                    print(f\"speed changed successfully the car now works on speed {self.speed}\")\n",
    "        def setOil(self):\n",
    "            \n",
    "                    self.oil=int(input(\"Enter the amount of oil you have in your car\"))\n",
    "\n",
    "        def checkOil(self):\n",
    "            if self.carType ==\"electrical\":\n",
    "                print(\"This is electrical car so you can't check it's oil\")\n",
    "            else:\n",
    "                if self.oil ==None:\n",
    "                    self.oil=int(input(\"Enter the amount of oil you have in your car\"))\n",
    "                else:\n",
    "                    if self.oil == 0:\n",
    "                        print(\"You must fill in the tank to move!\")\n",
    "                    elif self.oil == self.maxTank:\n",
    "                        print(\"You are fully tank you can go and consume it:)\")\n",
    "                    else:\n",
    "                        print(f\"Your {self.name} car oil is : {self.oil}\")\n",
    "        def fillTank(self,q):\n",
    "            if self.carType ==\"oil\":\n",
    "                if self.oil + q <= self.maxTank:\n",
    "                    self.oil+=q\n",
    "                else:\n",
    "                    print(\"You will be over the charge enter small quantity\")\n",
    "            else:\n",
    "                print(\"this car isnot oiled car !!\")\n",
    "        def consumeOil(self):\n",
    "            self.oil -= 20\n",
    "        def consumeElectric(self):\n",
    "            self.electric -= 10\n",
    "\n",
    "\n"
   ]
  },
  {
   "cell_type": "code",
   "execution_count": 84,
   "id": "4b657d09",
   "metadata": {
    "ExecuteTime": {
     "end_time": "2021-11-24T15:39:12.519223Z",
     "start_time": "2021-11-24T15:38:59.351622Z"
    }
   },
   "outputs": [
    {
     "name": "stdout",
     "output_type": "stream",
     "text": [
      "Please Enter Name : t\n",
      "enter lock: 1\n",
      "enter car speed: 200\n",
      "Enter Car Type: electrical\n"
     ]
    }
   ],
   "source": [
    "tesla = Car()"
   ]
  },
  {
   "cell_type": "code",
   "execution_count": 85,
   "id": "d7755ac9",
   "metadata": {
    "ExecuteTime": {
     "end_time": "2021-11-24T15:39:24.278027Z",
     "start_time": "2021-11-24T15:39:24.262034Z"
    }
   },
   "outputs": [
    {
     "data": {
      "text/plain": [
       "'electrical'"
      ]
     },
     "execution_count": 85,
     "metadata": {},
     "output_type": "execute_result"
    }
   ],
   "source": [
    "tesla.carType"
   ]
  },
  {
   "cell_type": "code",
   "execution_count": 86,
   "id": "86103412",
   "metadata": {
    "ExecuteTime": {
     "end_time": "2021-11-24T15:39:35.242580Z",
     "start_time": "2021-11-24T15:39:35.232587Z"
    }
   },
   "outputs": [
    {
     "name": "stdout",
     "output_type": "stream",
     "text": [
      "This is electrical car so you can't check it's oil\n"
     ]
    }
   ],
   "source": [
    "tesla.checkOil()"
   ]
  },
  {
   "cell_type": "code",
   "execution_count": 87,
   "id": "44303419",
   "metadata": {
    "ExecuteTime": {
     "end_time": "2021-11-24T15:39:47.887753Z",
     "start_time": "2021-11-24T15:39:47.880756Z"
    }
   },
   "outputs": [
    {
     "data": {
      "text/plain": [
       "100"
      ]
     },
     "execution_count": 87,
     "metadata": {},
     "output_type": "execute_result"
    }
   ],
   "source": [
    "tesla.maxPower"
   ]
  },
  {
   "cell_type": "code",
   "execution_count": 88,
   "id": "3d453396",
   "metadata": {
    "ExecuteTime": {
     "end_time": "2021-11-24T15:40:06.840089Z",
     "start_time": "2021-11-24T15:40:06.822097Z"
    }
   },
   "outputs": [
    {
     "name": "stdout",
     "output_type": "stream",
     "text": [
      "opened successfully:)\n"
     ]
    }
   ],
   "source": [
    "tesla.openLock(1)"
   ]
  },
  {
   "cell_type": "code",
   "execution_count": null,
   "id": "0d9f632b",
   "metadata": {},
   "outputs": [],
   "source": [
    "tesla.name"
   ]
  },
  {
   "cell_type": "code",
   "execution_count": null,
   "id": "708a3034",
   "metadata": {},
   "outputs": [],
   "source": []
  }
 ],
 "metadata": {
  "kernelspec": {
   "display_name": "Python 3",
   "language": "python",
   "name": "python3"
  },
  "language_info": {
   "codemirror_mode": {
    "name": "ipython",
    "version": 3
   },
   "file_extension": ".py",
   "mimetype": "text/x-python",
   "name": "python",
   "nbconvert_exporter": "python",
   "pygments_lexer": "ipython3",
   "version": "3.8.8"
  },
  "toc": {
   "base_numbering": 1,
   "nav_menu": {
    "height": "172px",
    "width": "192px"
   },
   "number_sections": true,
   "sideBar": true,
   "skip_h1_title": false,
   "title_cell": "Table of Contents",
   "title_sidebar": "Contents",
   "toc_cell": false,
   "toc_position": {},
   "toc_section_display": true,
   "toc_window_display": false
  },
  "varInspector": {
   "cols": {
    "lenName": 16,
    "lenType": 16,
    "lenVar": 40
   },
   "kernels_config": {
    "python": {
     "delete_cmd_postfix": "",
     "delete_cmd_prefix": "del ",
     "library": "var_list.py",
     "varRefreshCmd": "print(var_dic_list())"
    },
    "r": {
     "delete_cmd_postfix": ") ",
     "delete_cmd_prefix": "rm(",
     "library": "var_list.r",
     "varRefreshCmd": "cat(var_dic_list()) "
    }
   },
   "oldHeight": 122.844,
   "position": {
    "height": "324.844px",
    "left": "1034px",
    "right": "20px",
    "top": "120px",
    "width": "312px"
   },
   "types_to_exclude": [
    "module",
    "function",
    "builtin_function_or_method",
    "instance",
    "_Feature"
   ],
   "varInspector_section_display": "block",
   "window_display": false
  }
 },
 "nbformat": 4,
 "nbformat_minor": 5
}
